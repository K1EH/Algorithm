{
 "cells": [
  {
   "cell_type": "markdown",
   "id": "1b974e77",
   "metadata": {},
   "source": [
    "# DFS & BFS\n",
    "<img src=\"/Users/kieh/python/algorithm/Algorithm Note/images/DFS,BFS/graph.png\" width=\"500\" height=\"500\"/>"
   ]
  },
  {
   "cell_type": "code",
   "execution_count": 21,
   "id": "8bddcb3c",
   "metadata": {},
   "outputs": [],
   "source": [
    "# 그래프 정의 (양방향)\n",
    "graph = {\n",
    "    'A': ['B', 'C'],\n",
    "    'B': ['A', 'D'],\n",
    "    'C': ['A', 'E', 'F'],\n",
    "    'D': ['B'],\n",
    "    'E': ['C', 'G'],\n",
    "    'F': ['C'],\n",
    "    'G': ['E']\n",
    "}\n",
    "\n"
   ]
  },
  {
   "cell_type": "code",
   "execution_count": null,
   "id": "4c16fb9c",
   "metadata": {},
   "outputs": [],
   "source": [
    "# DFS (재귀)\n",
    "def dfs(graph, node, visited):\n",
    "    visited.add(node)\n",
    "    print(node, end=' ')\n",
    "    for next in graph[node]:\n",
    "        if next not in visited:\n",
    "            dfs(graph, next, visited)"
   ]
  },
  {
   "cell_type": "markdown",
   "id": "a800548b",
   "metadata": {},
   "source": [
    "<img src=\"/Users/kieh/python/algorithm/Algorithm Note/images/DFS,BFS/DFS.png\" width=\"500\" height=\"500\"/>"
   ]
  },
  {
   "cell_type": "code",
   "execution_count": 23,
   "id": "54b237fa",
   "metadata": {},
   "outputs": [
    {
     "name": "stdout",
     "output_type": "stream",
     "text": [
      "DFS 순서: A B D C E G F "
     ]
    }
   ],
   "source": [
    "# 실행\n",
    "print(\"DFS 순서:\", end=' ')\n",
    "dfs(graph, 'A', set())"
   ]
  },
  {
   "cell_type": "code",
   "execution_count": 24,
   "id": "1cf89aec",
   "metadata": {},
   "outputs": [],
   "source": [
    "from collections import deque\n",
    "\n",
    "# BFS (큐)\n",
    "def bfs(graph, start, visited):\n",
    "    queue = deque([start])\n",
    "    visited.add(start)\n",
    "    while queue:\n",
    "        node = queue.popleft()\n",
    "        print(node, end=' ')\n",
    "        for next in graph[node]:\n",
    "            if next not in visited:\n",
    "                queue.append(next)\n",
    "                visited.add(next)\n",
    "\n",
    "                "
   ]
  },
  {
   "cell_type": "markdown",
   "id": "ee78b411",
   "metadata": {},
   "source": [
    "<img src=\"/Users/kieh/python/algorithm/Algorithm Note/images/DFS,BFS/BFS.png\" width=\"500\" height=\"500\"/>"
   ]
  },
  {
   "cell_type": "code",
   "execution_count": 25,
   "id": "befa04c3",
   "metadata": {},
   "outputs": [
    {
     "name": "stdout",
     "output_type": "stream",
     "text": [
      "\n",
      "BFS 순서: A B C D E F G "
     ]
    }
   ],
   "source": [
    "print(\"\\nBFS 순서:\", end=' ')\n",
    "bfs(graph, 'A', set())"
   ]
  },
  {
   "cell_type": "markdown",
   "id": "807de8d7",
   "metadata": {},
   "source": [
    "---"
   ]
  },
  {
   "cell_type": "code",
   "execution_count": 26,
   "id": "b5c5f8a3",
   "metadata": {},
   "outputs": [],
   "source": [
    "# 깊이 추적을 위한 DFS\n",
    "def dfs(graph, node, visited, depth=0):\n",
    "    indent = '  ' * depth\n",
    "    print(f\"{indent}→ 방문: {node}, visited={sorted(visited)}, depth={depth}\")\n",
    "    visited.add(node)\n",
    "\n",
    "    for next in graph[node]:\n",
    "        print(f\"{indent}  탐색 시도: {node} → {next}\")\n",
    "        if next not in visited:\n",
    "            dfs(graph, next, visited, depth + 1)\n",
    "        else:\n",
    "            print(f\"{indent}  이미 방문됨: {next}\")"
   ]
  },
  {
   "cell_type": "code",
   "execution_count": 27,
   "id": "4faed16b",
   "metadata": {},
   "outputs": [
    {
     "name": "stdout",
     "output_type": "stream",
     "text": [
      "===== DFS 탐색 =====\n",
      "→ 방문: A, visited=[], depth=0\n",
      "  탐색 시도: A → B\n",
      "  → 방문: B, visited=['A'], depth=1\n",
      "    탐색 시도: B → A\n",
      "    이미 방문됨: A\n",
      "    탐색 시도: B → D\n",
      "    → 방문: D, visited=['A', 'B'], depth=2\n",
      "      탐색 시도: D → B\n",
      "      이미 방문됨: B\n",
      "  탐색 시도: A → C\n",
      "  → 방문: C, visited=['A', 'B', 'D'], depth=1\n",
      "    탐색 시도: C → A\n",
      "    이미 방문됨: A\n",
      "    탐색 시도: C → E\n",
      "    → 방문: E, visited=['A', 'B', 'C', 'D'], depth=2\n",
      "      탐색 시도: E → C\n",
      "      이미 방문됨: C\n",
      "      탐색 시도: E → G\n",
      "      → 방문: G, visited=['A', 'B', 'C', 'D', 'E'], depth=3\n",
      "        탐색 시도: G → E\n",
      "        이미 방문됨: E\n",
      "    탐색 시도: C → F\n",
      "    → 방문: F, visited=['A', 'B', 'C', 'D', 'E', 'G'], depth=2\n",
      "      탐색 시도: F → C\n",
      "      이미 방문됨: C\n"
     ]
    }
   ],
   "source": [
    "\n",
    "print(\"===== DFS 탐색 =====\")\n",
    "dfs(graph, 'A', set())"
   ]
  },
  {
   "cell_type": "code",
   "execution_count": 28,
   "id": "36ce164c",
   "metadata": {},
   "outputs": [],
   "source": [
    "# BFS는 순차 탐색이라 스택 대신 큐 상태 출력\n",
    "def bfs(graph, start):\n",
    "    visited = set([start])\n",
    "    queue = deque([start])\n",
    "    step = 0\n",
    "\n",
    "    while queue:\n",
    "        node = queue.popleft()\n",
    "        print(f\"Step {step}: 방문={node}, queue={list(queue)}, visited={sorted(visited)}\")\n",
    "        for next in graph[node]:\n",
    "            if next not in visited:\n",
    "                visited.add(next)\n",
    "                queue.append(next)\n",
    "        step += 1"
   ]
  },
  {
   "cell_type": "code",
   "execution_count": 29,
   "id": "ecfbaa06",
   "metadata": {},
   "outputs": [
    {
     "name": "stdout",
     "output_type": "stream",
     "text": [
      "\n",
      "===== BFS 탐색 =====\n",
      "Step 0: 방문=A, queue=[], visited=['A']\n",
      "Step 1: 방문=B, queue=['C'], visited=['A', 'B', 'C']\n",
      "Step 2: 방문=C, queue=['D'], visited=['A', 'B', 'C', 'D']\n",
      "Step 3: 방문=D, queue=['E', 'F'], visited=['A', 'B', 'C', 'D', 'E', 'F']\n",
      "Step 4: 방문=E, queue=['F'], visited=['A', 'B', 'C', 'D', 'E', 'F']\n",
      "Step 5: 방문=F, queue=['G'], visited=['A', 'B', 'C', 'D', 'E', 'F', 'G']\n",
      "Step 6: 방문=G, queue=[], visited=['A', 'B', 'C', 'D', 'E', 'F', 'G']\n"
     ]
    }
   ],
   "source": [
    "\n",
    "print(\"\\n===== BFS 탐색 =====\")\n",
    "bfs(graph, 'A')"
   ]
  }
 ],
 "metadata": {
  "kernelspec": {
   "display_name": "algorithm-zqtmfXwb-py3.11",
   "language": "python",
   "name": "python3"
  },
  "language_info": {
   "codemirror_mode": {
    "name": "ipython",
    "version": 3
   },
   "file_extension": ".py",
   "mimetype": "text/x-python",
   "name": "python",
   "nbconvert_exporter": "python",
   "pygments_lexer": "ipython3",
   "version": "3.11.12"
  }
 },
 "nbformat": 4,
 "nbformat_minor": 5
}
